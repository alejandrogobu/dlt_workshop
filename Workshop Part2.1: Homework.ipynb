{
 "cells": [
  {
   "cell_type": "markdown",
   "metadata": {},
   "source": [
    "This pipeline load the data in duckdb -- This work"
   ]
  },
  {
   "cell_type": "code",
   "execution_count": 3,
   "metadata": {},
   "outputs": [
    {
     "name": "stderr",
     "output_type": "stream",
     "text": [
      "2024-09-07 12:08:27,098|[WARNING]|35465|8497359168|dlt|client.py|detect_paginator:292|Fallback paginator used: SinglePagePaginator at 127c818a0. Please provide right paginator manually.\n",
      "2024-09-07 12:08:27,259|[WARNING]|35465|8497359168|dlt|client.py|detect_paginator:292|Fallback paginator used: SinglePagePaginator at 12534bc70. Please provide right paginator manually.\n",
      "2024-09-07 12:08:27,425|[WARNING]|35465|8497359168|dlt|client.py|detect_paginator:292|Fallback paginator used: SinglePagePaginator at 127c81870. Please provide right paginator manually.\n",
      "2024-09-07 12:08:27,702|[WARNING]|35465|8497359168|dlt|client.py|detect_paginator:292|Fallback paginator used: SinglePagePaginator at 127feaf50. Please provide right paginator manually.\n"
     ]
    },
    {
     "name": "stdout",
     "output_type": "stream",
     "text": [
      "Pipeline rest_api_example0 load step completed in 2.19 seconds\n",
      "1 load package(s) were loaded to destination duckdb and into dataset rest_api_data\n",
      "The duckdb destination used duckdb:////Users/alejandrogonzalezbueno/Projects/dlt_workshop/rest_api_example0.duckdb location to store data\n",
      "Load package 1725703706.6292338 is LOADED and contains no failed jobs\n"
     ]
    }
   ],
   "source": [
    "import dlt\n",
    "from rest_api import rest_api_source\n",
    "\n",
    "source = rest_api_source({\n",
    "        \"client\": {\n",
    "            \"base_url\": \"https://api.spacexdata.com/v4\"\n",
    "        },\n",
    "\n",
    "        \"resources\": [\n",
    "            {\n",
    "                \"name\": \"launches\",\n",
    "                \"write_disposition\": \"merge\",\n",
    "                \"primary_key\": \"id\",\n",
    "                \"endpoint\": {\n",
    "                    \"path\": \"launches\",\n",
    "                },\n",
    "            },\n",
    "            {\n",
    "                \"name\": \"rockets\",\n",
    "                \"endpoint\": {\n",
    "                    \"path\": \"rockets\",\n",
    "                },\n",
    "            },\n",
    "            {\n",
    "                \"name\": \"crew\",\n",
    "                \"endpoint\": {\n",
    "                    \"path\": \"crew\",\n",
    "                },\n",
    "            },\n",
    "            {\n",
    "                \"name\": \"payloads\",\n",
    "                \"endpoint\": {\n",
    "                    \"path\": \"payloads\",\n",
    "                },\n",
    "            }\n",
    "        ]\n",
    "    })\n",
    "\n",
    "pipeline = dlt.pipeline(\n",
    "    pipeline_name=\"rest_api_example0\",\n",
    "    destination=\"duckdb\",\n",
    "    dataset_name=\"rest_api_data\",\n",
    ")\n",
    "\n",
    "load_info = pipeline.run(source)\n",
    "print(load_info)"
   ]
  },
  {
   "cell_type": "code",
   "execution_count": 48,
   "metadata": {},
   "outputs": [],
   "source": [
    "import os\n",
    "\n",
    "# Set the buffer size to 1\n",
    "os.environ['DATA_WRITER__BUFFER_MAX_ITEMS'] = '1'\n",
    "os.environ['EXTRACT__WORKERS'] = '1'\n",
    "os.environ['NORMALIZE__WORKERS'] = '1'\n",
    "os.environ['LOAD__WORKERS'] = '1'\n"
   ]
  },
  {
   "cell_type": "code",
   "execution_count": 49,
   "metadata": {},
   "outputs": [
    {
     "name": "stderr",
     "output_type": "stream",
     "text": [
      "2024-09-07 12:40:43,644|[WARNING]|35465|8497359168|dlt|logger.py|wrapper:25|The pipeline `run` method will now load the pending load packages. The data you passed to the run function will not be loaded. In order to do that you must run the pipeline again\n"
     ]
    },
    {
     "name": "stdout",
     "output_type": "stream",
     "text": [
      "Time taken to execute pipeline: 1.149745225906372 seconds\n",
      "Pipeline rest_api_example2 load step completed in 0.76 seconds\n",
      "1 load package(s) were loaded to destination duckdb and into dataset rest_api_data\n",
      "The duckdb destination used duckdb:////Users/alejandrogonzalezbueno/Projects/dlt_workshop/rest_api_example2.duckdb location to store data\n",
      "Load package 1725705623.558692 is LOADED and contains no failed jobs\n",
      "Normalized data for the following tables:\n",
      "- crew: 30 row(s)\n",
      "- crew__launches: 30 row(s)\n",
      "- launches: 205 row(s)\n",
      "- launches__failures: 5 row(s)\n",
      "- launches__payloads: 222 row(s)\n",
      "- launches__cores: 215 row(s)\n",
      "- launches__ships: 342 row(s)\n",
      "- launches__capsules: 35 row(s)\n",
      "- launches__links__flickr__original: 848 row(s)\n",
      "- launches__fairings__ships: 75 row(s)\n",
      "- launches__crew: 30 row(s)\n",
      "- payloads: 225 row(s)\n",
      "- payloads__customers: 236 row(s)\n",
      "- payloads__nationalities: 221 row(s)\n",
      "- payloads__manufacturers: 210 row(s)\n",
      "- payloads__norad_ids: 906 row(s)\n",
      "- rockets: 4 row(s)\n",
      "- rockets__payload_weights: 11 row(s)\n",
      "- rockets__flickr_images: 16 row(s)\n",
      "\n",
      "Load package 1725705623.558692 is NORMALIZED and NOT YET LOADED to the destination and contains no failed jobs\n"
     ]
    }
   ],
   "source": [
    "import time\n",
    "import dlt\n",
    "from rest_api import rest_api_source\n",
    "\n",
    "source = rest_api_source({\n",
    "        \"client\": {\n",
    "            \"base_url\": \"https://api.spacexdata.com/v4\"\n",
    "        },\n",
    "\n",
    "        \"resources\": [\n",
    "            {\n",
    "                \"name\": \"launches\",\n",
    "                \"write_disposition\": \"merge\",\n",
    "                \"primary_key\": \"id\",\n",
    "                \"endpoint\": {\n",
    "                    \"path\": \"launches\",\n",
    "                },\n",
    "            },\n",
    "            {\n",
    "                \"name\": \"rockets\",\n",
    "                \"write_disposition\": \"merge\",\n",
    "                \"primary_key\": \"id\",\n",
    "                \"endpoint\": {\n",
    "                    \"path\": \"rockets\",\n",
    "                },\n",
    "            },\n",
    "            {\n",
    "                \"name\": \"crew\",\n",
    "                \"endpoint\": {\n",
    "                    \"path\": \"crew\",\n",
    "                },\n",
    "            },\n",
    "            {\n",
    "                \"name\": \"payloads\",\n",
    "                \"write_disposition\": \"merge\",\n",
    "                \"primary_key\": \"id\",\n",
    "                \"endpoint\": {\n",
    "                    \"path\": \"payloads\",\n",
    "                },\n",
    "            }\n",
    "        ]\n",
    "    })\n",
    "\n",
    "pipeline = dlt.pipeline(\n",
    "    pipeline_name=\"rest_api_example2\",\n",
    "    destination=\"duckdb\",\n",
    "    dataset_name=\"rest_api_data\"\n",
    "\n",
    ")\n",
    "\n",
    "start_time = time.time()\n",
    "\n",
    "load_info = pipeline.run(source)\n",
    "\n",
    "end_time = time.time()\n",
    "elapsed_time = end_time - start_time\n",
    "\n",
    "print(f\"Time taken to execute pipeline: {elapsed_time} seconds\")\n",
    "print(load_info)\n",
    "print(pipeline.last_trace.last_normalize_info)"
   ]
  },
  {
   "cell_type": "code",
   "execution_count": 8,
   "metadata": {},
   "outputs": [],
   "source": [
    "%%capture\n",
    "!pip install matplotlib"
   ]
  },
  {
   "cell_type": "code",
   "execution_count": 23,
   "metadata": {},
   "outputs": [
    {
     "data": {
      "image/png": "[encoded data removed]",
      "text/plain": [
       "<Figure size 640x480 with 1 Axes>"
      ]
     },
     "metadata": {},
     "output_type": "display_data"
    }
   ],
   "source": [
    "import matplotlib.pyplot as plt\n",
    "\n",
    "worker_numbers = [1, 2, 3, 4]\n",
    "\n",
    "seconds = [2.3, 2, 3, 4]\n",
    "\n",
    "plt.plot(worker_numbers, seconds)\n",
    "plt.show()"
   ]
  }
 ],
 "metadata": {
  "kernelspec": {
   "display_name": ".venv",
   "language": "python",
   "name": "python3"
  },
  "language_info": {
   "codemirror_mode": {
    "name": "ipython",
    "version": 3
   },
   "file_extension": ".py",
   "mimetype": "text/x-python",
   "name": "python",
   "nbconvert_exporter": "python",
   "pygments_lexer": "ipython3",
   "version": "3.10.4"
  }
 },
 "nbformat": 4,
 "nbformat_minor": 2
}
